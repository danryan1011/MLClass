{
 "metadata": {
  "name": "mlex2_reg"
 }, 
 "nbformat": 2, 
 "worksheets": [
  {
   "cells": [
    {
     "cell_type": "code", 
     "collapsed": true, 
     "input": [
      "import numpy as np", 
      "import matplotlib", 
      "import os", 
      "from matplotlib import pylab", 
      "", 
      "os.chdir(\"C:\\Documents and Settings\\daniel-ryan\\My Documents\\Machine Learning\\ex2\")"
     ], 
     "language": "python", 
     "outputs": [], 
     "prompt_number": 2
    }, 
    {
     "cell_type": "code", 
     "collapsed": true, 
     "input": [
      "from scipy import optimize"
     ], 
     "language": "python", 
     "outputs": [], 
     "prompt_number": 3
    }, 
    {
     "cell_type": "code", 
     "collapsed": true, 
     "input": [
      "data = np.loadtxt('ex2data2.txt', delimiter=\",\")"
     ], 
     "language": "python", 
     "outputs": [], 
     "prompt_number": 4
    }, 
    {
     "cell_type": "code", 
     "collapsed": false, 
     "input": [
      "X = np.vstack((np.ones(len(data)), data[:,:-1].T)).T", 
      "y = data[:,-1]", 
      "bool_y = np.array(y, dtype=\"bool\")", 
      "theta = np.zeros(len(X[0]))", 
      "pyplot.scatter(X[:,1][bool_y], X[:,2][bool_y])", 
      "pyplot.scatter(X[:,1][np.invert(bool_y)], X[:,2][np.invert(bool_y)], c=\"r\")"
     ], 
     "language": "python", 
     "outputs": [
      {
       "output_type": "pyout", 
       "prompt_number": 5, 
       "text": [
        "<matplotlib.collections.PathCollection at 0x2e5e530>"
       ]
      }, 
      {
       "output_type": "display_data", 
       "png": "[encoded data removed]"
      }
     ], 
     "prompt_number": 5
    }, 
    {
     "cell_type": "code", 
     "collapsed": true, 
     "input": [
      "def sigmoid(x):", 
      "    return 1/(1+exp(-x))"
     ], 
     "language": "python", 
     "outputs": [], 
     "prompt_number": 6
    }, 
    {
     "cell_type": "code", 
     "collapsed": false, 
     "input": [
      "def mapFeature(X1, X2):", 
      "    degree = 6", 
      "    result = []", 
      "    for i in range(degree):", 
      "        for j in range i:", 
      "            result.append("
     ], 
     "language": "python", 
     "outputs": [
      {
       "output_type": "pyout", 
       "prompt_number": 28, 
       "text": [
        "array([ 1.,  1.,  1.,  1.,  1.,  1.,  1.,  1.,  1.,  1.,  1.,  1.,  1.,", 
        "        1.,  1.,  1.,  1.,  1.,  1.,  1.,  1.,  1.,  1.,  1.,  1.,  1.,", 
        "        1.,  1.,  1.,  1.,  1.,  1.,  1.,  1.,  1.,  1.,  1.,  1.,  1.,", 
        "        1.,  1.,  1.,  1.,  1.,  1.,  1.,  1.,  1.,  1.,  1.,  1.,  1.,", 
        "        1.,  1.,  1.,  1.,  1.,  1.,  0.,  0.,  0.,  0.,  0.,  0.,  0.,", 
        "        0.,  0.,  0.,  0.,  0.,  0.,  0.,  0.,  0.,  0.,  0.,  0.,  0.,", 
        "        0.,  0.,  0.,  0.,  0.,  0.,  0.,  0.,  0.,  0.,  0.,  0.,  0.,", 
        "        0.,  0.,  0.,  0.,  0.,  0.,  0.,  0.,  0.,  0.,  0.,  0.,  0.,", 
        "        0.,  0.,  0.,  0.,  0.,  0.,  0.,  0.,  0.,  0.,  0.,  0.,  0.,  0.])"
       ]
      }
     ], 
     "prompt_number": 28
    }, 
    {
     "cell_type": "code", 
     "collapsed": true, 
     "input": [
      "X1 = np.mat(X[:,1])", 
      "X1.A?"
     ], 
     "language": "python", 
     "outputs": [], 
     "prompt_number": 35
    }, 
    {
     "cell_type": "code", 
     "collapsed": false, 
     "input": [
      "out = [np.ones(X1.shape[0])]", 
      "out"
     ], 
     "language": "python", 
     "outputs": [
      {
       "output_type": "pyout", 
       "prompt_number": 36, 
       "text": [
        "[array([ 1.])]"
       ]
      }
     ], 
     "prompt_number": 36
    }, 
    {
     "cell_type": "code", 
     "collapsed": true, 
     "input": [
      "def mapFeature(X1, X2):", 
      "    #X1 = mat(X1); X2 = mat(X2)", 
      "", 
      "    degree = 6", 
      "    out = [np.ones(X1.shape[0])]", 
      "    for i in xrange(1, degree+1):", 
      "        for j in xrange(0, i+1):", 
      "            #out = c_[out, X1.A**(i-j) * X2.A**j] # too slow, what's numpy way?", 
      "            out.append(X1**(i-j) * X2**j)", 
      "    return np.array(out).T"
     ], 
     "language": "python", 
     "outputs": [], 
     "prompt_number": 7
    }, 
    {
     "cell_type": "code", 
     "collapsed": true, 
     "input": [
      "X = mapFeature(X[:, 0], X[:, 1])", 
      "theta = np.zeros(len(X[0]))"
     ], 
     "language": "python", 
     "outputs": [], 
     "prompt_number": 8
    }, 
    {
     "cell_type": "code", 
     "collapsed": true, 
     "input": [
      "def costFunctionReg(theta, X, y, lmd):", 
      "    m = len(y)*1.0", 
      "    J = (1.0/m * (sum(-y*log(sigmoid(np.dot(X, theta)))-(1-y)*log(1-sigmoid(np.dot(X, theta))))) + ", 
      "         lmd/(2*m)*sum(theta[1:]**2))", 
      "    print (-y*log(sigmoid(np.dot(X, theta)))-(1-y)*log(1-sigmoid(np.dot(X, theta))))", 
      "    #print (1-y)*log(1-sigmoid(np.dot(X, theta)))", 
      "    print (sum(-y*log(sigmoid(np.dot(X, theta)))-(1-y)*log(1-sigmoid(np.dot(X, theta)))))", 
      "    print (-y.T.dot(np.log(sigmoid(np.dot(X, theta)))) - (1-y).T.dot(np.log(1 - sigmoid(np.dot(X, theta)))))", 
      "    grad = np.zeros(len(theta))", 
      "    for i in range(len(grad)):", 
      "        if i == 0:", 
      "            grad[i] = 1.0/m * sum((sigmoid(np.dot(X, theta))-y)*X[:,i])", 
      "        else:", 
      "            grad[i] = 1.0/m * sum((sigmoid(np.dot(X, theta))-y)*X[:,i]) + lmd/m*theta[i]", 
      "    return J, grad", 
      "    ", 
      "    "
     ], 
     "language": "python", 
     "outputs": [], 
     "prompt_number": 14
    }, 
    {
     "cell_type": "code", 
     "collapsed": false, 
     "input": [
      "lrcostFunction(np.ones(len(X[0])), X, y, 1)"
     ], 
     "language": "python", 
     "outputs": [
      {
       "output_type": "pyout", 
       "prompt_number": 100, 
       "text": [
        "5.4815752432312035"
       ]
      }
     ], 
     "prompt_number": 100
    }, 
    {
     "cell_type": "code", 
     "collapsed": false, 
     "input": [
      "costFunctionReg(np.ones(len(X[0])), X, y, 1)"
     ], 
     "language": "python", 
     "outputs": [
      {
       "output_type": "stream", 
       "stream": "stdout", 
       "text": [
        "[  6.61080780e-04   1.52717569e-03   2.70171035e-03   5.03178749e-03", 
        "   7.78204816e-03   8.04207067e-03   5.44147222e-03   3.91968783e-03", 
        "   8.23410331e-04   3.74910503e-04   3.13545527e-05   3.68335212e-06", 
        "   4.14366331e-07   3.34872518e-08   2.70656013e-06   6.61036204e-05", 
        "   2.86274802e-04   1.19317742e-03   2.25933586e-03   7.02960311e-03", 
        "   9.98021857e-03   1.05673024e-02   9.69172601e-03   5.87078088e-03", 
        "   1.71645331e-03   2.14637932e-04   1.03102151e-05   1.82586202e-07", 
        "   1.92137699e-03   3.75102883e-03   3.35037074e-03   2.14256600e-03", 
        "   2.25933586e-03   3.58724931e-03   4.83429325e-03   3.83483689e-03", 
        "   2.97867667e-03   1.31166237e-03   6.12608341e-04   1.66315512e-04", 
        "   8.98798439e-05   7.90311051e-06   3.63123668e-07   1.12396721e-05", 
        "   5.36364095e-07   1.57333331e-06   4.65110891e-08   1.75222682e-04", 
        "   1.44647140e-05   6.61036204e-05   3.58857566e-04   9.46580383e-04", 
        "   1.52717569e-03   2.63524981e-03   2.63524981e-03   6.20561995e-03", 
        "   2.76927693e-03   1.92137699e-03   8.30034614e+00   8.64954054e+00", 
        "   9.37706584e+00   1.21198174e+01   1.41875227e+01   1.39435049e+01", 
        "   1.80759031e+01   2.42565643e+01   2.00023652e+01   2.59400453e+01", 
        "   2.48014087e+01   2.15263853e+01   2.29615309e+01   2.10750714e+01", 
        "   2.02107391e+01   1.90041979e+01   1.37061859e+01   1.23131123e+01", 
        "   1.14823806e+01   9.95086680e+00   9.25780673e+00   7.55503229e+00", 
        "   8.02168413e+00   6.28347271e+00   5.17827520e+00   5.23571934e+00", 
        "   4.30352011e+00   4.39742593e+00   4.28158497e+00   4.39742593e+00", 
        "   5.19727751e+00   5.27475282e+00   4.87638535e+00   4.76314202e+00", 
        "   7.67703035e+00   7.35984030e+00   6.42620847e+00   6.54507702e+00", 
        "   9.25780673e+00   1.05170945e+01   1.46965156e+01   2.00023652e+01", 
        "   1.55160435e+01   3.23547739e+01   6.73173196e+00   5.81776512e+00", 
        "   6.20075173e+00   4.92684505e+00   4.99595928e+00   5.60979254e+00", 
        "   4.59770828e+00   4.47391559e+00   4.62666688e+00   4.33760499e+00", 
        "   4.15592513e+00   4.34927311e+00   4.64132470e+00   4.94392568e+00", 
        "   6.96312792e+00   1.45573991e+01]", 
        "633.325878701", 
        "633.325878701"
       ]
      }, 
      {
       "output_type": "pyout", 
       "prompt_number": 15, 
       "text": [
        "(5.4815752432312035,", 
        " array([ 0.50553495,  0.51400952,  0.05613834,  0.51400952,  0.05613834,", 
        "        0.18171693,  0.51400952,  0.05613834,  0.18171693,  0.05731406,", 
        "        0.51400952,  0.05613834,  0.18171693,  0.05731406,  0.10871374,", 
        "        0.51400952,  0.05613834,  0.18171693,  0.05731406,  0.10871374,", 
        "        0.0546886 ,  0.51400952,  0.05613834,  0.18171693,  0.05731406,", 
        "        0.10871374,  0.0546886 ,  0.07850737]))"
       ]
      }
     ], 
     "prompt_number": 15
    }, 
    {
     "cell_type": "code", 
     "collapsed": false, 
     "input": [
      "# Minimize cost function using scipy optimize fmin", 
      "options = {'full_output': False}", 
      "optimize.fmin_powell(lambda t: lrcostFunction(t, X, y, 1), theta, **options)", 
      "#min_thet"
     ], 
     "language": "python", 
     "outputs": [
      {
       "output_type": "stream", 
       "stream": "stdout", 
       "text": [
        "Optimization terminated successfully.", 
        "         Current function value: 0.609944", 
        "         Iterations: 5", 
        "         Function evaluations: 1414"
       ]
      }, 
      {
       "output_type": "pyout", 
       "prompt_number": 102, 
       "text": [
        "array([ 0.15847424,  0.01178725,  0.04311073,  0.00416825, -0.04532458,", 
        "       -0.42988085,  0.08786857, -0.0335459 , -0.49716951,  0.14735478,", 
        "        0.12166789,  0.01070473, -0.48842297,  0.15552694, -0.57418495,", 
        "        0.15257613,  0.04406985, -0.49457723,  0.16324379, -0.578105  ,", 
        "       -0.08960258,  0.16129517,  0.08373458, -0.48993806,  0.18341932,", 
        "       -0.57239723, -0.07731834, -0.52458918])"
       ]
      }
     ], 
     "prompt_number": 102
    }, 
    {
     "cell_type": "code", 
     "collapsed": false, 
     "input": [
      "theta"
     ], 
     "language": "python", 
     "outputs": [
      {
       "output_type": "pyout", 
       "prompt_number": 112, 
       "text": [
        "array([ 0.,  0.,  0.,  0.,  0.,  0.,  0.,  0.,  0.,  0.,  0.,  0.,  0.,", 
        "        0.,  0.,  0.,  0.,  0.,  0.,  0.,  0.,  0.,  0.,  0.,  0.,  0.,", 
        "        0.,  0.])"
       ]
      }
     ], 
     "prompt_number": 112
    }, 
    {
     "cell_type": "code", 
     "collapsed": true, 
     "input": [
      "def costFunctionReg2(theta, X, y, lmd):", 
      "    m = X.shape[0]*1.", 
      "    predictions = sigmoid(X.dot(theta))", 
      "", 
      "    J = 1./m * (-y.T.dot(np.log(predictions)) - (1-y).T.dot(np.log(1 - predictions)))", 
      "    J_reg = lmd/(2*m) * (theta[1:] ** 2).sum()", 
      "    J += J_reg", 
      "", 
      "    grad0 = 1/m * X.T[0].dot((predictions - y))", 
      "    grad = 1/m * (X.T[1:].dot((predictions - y)) + lmd * theta[1:])", 
      "    grad = r_[grad0, grad]", 
      "    return J, grad"
     ], 
     "language": "python", 
     "outputs": [], 
     "prompt_number": 78
    }, 
    {
     "cell_type": "code", 
     "collapsed": false, 
     "input": [
      "costFunctionReg2(np.ones(len(X[0])), X, y, 1)"
     ], 
     "language": "python", 
     "outputs": [
      {
       "output_type": "pyout", 
       "prompt_number": 79, 
       "text": [
        "(5.4815752432312062,", 
        " array([ 0.50553495,  0.51400952,  0.05613834,  0.51400952,  0.05613834,", 
        "        0.18171693,  0.51400952,  0.05613834,  0.18171693,  0.05731406,", 
        "        0.51400952,  0.05613834,  0.18171693,  0.05731406,  0.10871374,", 
        "        0.51400952,  0.05613834,  0.18171693,  0.05731406,  0.10871374,", 
        "        0.0546886 ,  0.51400952,  0.05613834,  0.18171693,  0.05731406,", 
        "        0.10871374,  0.0546886 ,  0.07850737]))"
       ]
      }
     ], 
     "prompt_number": 79
    }, 
    {
     "cell_type": "code", 
     "collapsed": false, 
     "input": [
      "X.T.dot((predictions - y))"
     ], 
     "language": "python", 
     "outputs": [
      {
       "output_type": "pyout", 
       "prompt_number": 80, 
       "text": [
        "array([ 59.65312387,  59.65312387,   5.62432386,  59.65312387,", 
        "         5.62432386,  20.44259763,  59.65312387,   5.62432386,", 
        "        20.44259763,   5.76305867,  59.65312387,   5.62432386,", 
        "        20.44259763,   5.76305867,  11.82822143,  59.65312387,", 
        "         5.62432386,  20.44259763,   5.76305867,  11.82822143,", 
        "         5.45325514,  59.65312387,   5.62432386,  20.44259763,", 
        "         5.76305867,  11.82822143,   5.45325514,   8.26386934])"
       ]
      }
     ], 
     "prompt_number": 80
    }, 
    {
     "cell_type": "code", 
     "collapsed": true, 
     "input": [
      "def lrcostFunction(theta, X, y, lmd):", 
      "    m = len(y)*1.0", 
      "    J = (1.0/m * (sum(-y*log(sigmoid(np.dot(X, theta)))-(1-y)*log(1-sigmoid(np.dot(X, theta))))) + ", 
      "         lmd/(2*m)*sum(theta[1:]**2))", 
      "    grad_dif = sigmoid(np.dot(X, np.ones(len(X[0]))))-y", 
      "    grad = 1/m*X.T.dot(grad_dif)", 
      "    reg_term = lmd/m*theta", 
      "    reg_term[0] = 0", 
      "    grad += reg_term", 
      "    ", 
      "    return J#, grad"
     ], 
     "language": "python", 
     "outputs": [], 
     "prompt_number": 98
    }, 
    {
     "cell_type": "code", 
     "collapsed": false, 
     "input": [
      "predictions = sigmoid(X.dot(np.ones(len(X[0]))))", 
      "m = X.shape[0]*1.", 
      "lmd = 1", 
      "#grad0 = ", 
      "1/m * X.T[0].dot((predictions - y))", 
      "#grad = 1/m * (X.T[1:].dot((predictions - y)) + lmd * theta[1:])"
     ], 
     "language": "python", 
     "outputs": [
      {
       "output_type": "pyout", 
       "prompt_number": 92, 
       "text": [
        "0.50553494803331012"
       ]
      }
     ], 
     "prompt_number": 92
    }, 
    {
     "cell_type": "code", 
     "collapsed": false, 
     "input": [
      "X.T.dot(predictions - y)*(1/m)"
     ], 
     "language": "python", 
     "outputs": [
      {
       "output_type": "pyout", 
       "prompt_number": 94, 
       "text": [
        "array([ 0.50553495,  0.50553495,  0.04766376,  0.50553495,  0.04766376,", 
        "        0.17324235,  0.50553495,  0.04766376,  0.17324235,  0.04883948,", 
        "        0.50553495,  0.04766376,  0.17324235,  0.04883948,  0.10023916,", 
        "        0.50553495,  0.04766376,  0.17324235,  0.04883948,  0.10023916,", 
        "        0.04621403,  0.50553495,  0.04766376,  0.17324235,  0.04883948,", 
        "        0.10023916,  0.04621403,  0.07003279])"
       ]
      }
     ], 
     "prompt_number": 94
    }, 
    {
     "cell_type": "code", 
     "collapsed": false, 
     "input": [
      "grad_dif = sigmoid(np.dot(X, np.ones(len(X[0]))))-y", 
      "grad = X.T.dot(grad_dif)", 
      "reg_term = lmd/m*np.ones(len(X[0]))", 
      "reg_term[0] = 0", 
      "grad += reg_term", 
      "grad"
     ], 
     "language": "python", 
     "outputs": [
      {
       "output_type": "pyout", 
       "prompt_number": 91, 
       "text": [
        "array([ 59.65312387,  59.66159844,   5.63279843,  59.66159844,", 
        "         5.63279843,  20.45107221,  59.66159844,   5.63279843,", 
        "        20.45107221,   5.77153325,  59.66159844,   5.63279843,", 
        "        20.45107221,   5.77153325,  11.83669601,  59.66159844,", 
        "         5.63279843,  20.45107221,   5.77153325,  11.83669601,", 
        "         5.46172971,  59.66159844,   5.63279843,  20.45107221,", 
        "         5.77153325,  11.83669601,   5.46172971,   8.27234392])"
       ]
      }
     ], 
     "prompt_number": 91
    }, 
    {
     "cell_type": "code", 
     "collapsed": false, 
     "input": [
      "X"
     ], 
     "language": "python", 
     "outputs": [
      {
       "output_type": "pyout", 
       "prompt_number": 75, 
       "text": [
        "array([[  1.00000000e+00,   1.00000000e+00,   5.12670000e-02, ...,", 
        "          6.90798869e-06,   3.54151856e-07,   1.81563032e-08],", 
        "       [  1.00000000e+00,   1.00000000e+00,  -9.27420000e-02, ...,", 
        "          7.39785525e-05,  -6.86091891e-06,   6.36295342e-07],", 
        "       [  1.00000000e+00,   1.00000000e+00,  -2.13710000e-01, ...,", 
        "          2.08592830e-03,  -4.45783738e-04,   9.52684426e-05],", 
        "       ..., ", 
        "       [  1.00000000e+00,   1.00000000e+00,  -4.84450000e-01, ...,", 
        "          5.50802422e-02,  -2.66836233e-02,   1.29268813e-02],", 
        "       [  1.00000000e+00,   1.00000000e+00,  -6.33640000e-03, ...,", 
        "          1.61201969e-09,  -1.02144015e-11,   6.47225339e-14],", 
        "       [  1.00000000e+00,   1.00000000e+00,   6.32650000e-01, ...,", 
        "          1.60196879e-01,   1.01348555e-01,   6.41181634e-02]])"
       ]
      }
     ], 
     "prompt_number": 75
    }, 
    {
     "cell_type": "code", 
     "collapsed": true, 
     "input": [], 
     "language": "python", 
     "outputs": []
    }
   ]
  }
 ]
}