{
 "metadata": {
  "name": "mlex3_v2"
 }, 
 "nbformat": 2, 
 "worksheets": [
  {
   "cells": [
    {
     "cell_type": "code", 
     "collapsed": true, 
     "input": [
      "import numpy as np", 
      "import matplotlib", 
      "import os", 
      "from matplotlib import pylab", 
      "import scipy", 
      "from scipy import io", 
      "from scipy import optimize", 
      "", 
      "os.chdir(\"C:\\Documents and Settings\\daniel-ryan\\My Documents\\Machine Learning\\ex3\")"
     ], 
     "language": "python", 
     "outputs": [], 
     "prompt_number": 1
    }, 
    {
     "cell_type": "code", 
     "collapsed": false, 
     "input": [
      "import sklearn"
     ], 
     "language": "python", 
     "outputs": [], 
     "prompt_number": 21
    }, 
    {
     "cell_type": "code", 
     "collapsed": true, 
     "input": [
      "data = scipy.io.loadmat('ex3data1')", 
      "X = data['X']", 
      "X = np.hstack((c_[np.ones(len(X))],X))", 
      "y = data['y'].T[0]", 
      "theta = np.zeros(len(X[0]))"
     ], 
     "language": "python", 
     "outputs": [], 
     "prompt_number": 2
    }, 
    {
     "cell_type": "code", 
     "collapsed": false, 
     "input": [
      "#plot character", 
      "pylab.imshow(data['X'][3500].reshape(20,20).T,cmap=pylab.cm.gray_r)"
     ], 
     "language": "python", 
     "outputs": [
      {
       "output_type": "pyout", 
       "prompt_number": 31, 
       "text": [
        "<matplotlib.image.AxesImage at 0x72740d0>"
       ]
      }, 
      {
       "output_type": "display_data", 
       "png": "[encoded data removed]"
      }
     ], 
     "prompt_number": 31
    }, 
    {
     "cell_type": "code", 
     "collapsed": false, 
     "input": [
      "def sigmoid(z):", 
      "    g = 1. / (1 + e**(-z.A))", 
      "    return g"
     ], 
     "language": "python", 
     "outputs": [], 
     "prompt_number": 7
    }, 
    {
     "cell_type": "code", 
     "collapsed": true, 
     "input": [
      "def costFunctionReg(theta, X, y, lmd):", 
      "    m = X.shape[0]", 
      "    predictions = sigmoid(X * c_[theta])", 
      "", 
      "    J = 1./m * (-y.T.dot(np.log(predictions)) - (1-y).T.dot(np.log(1 - predictions)))", 
      "    J_reg = lmd/(2*m) * (theta[1:] ** 2).sum()", 
      "    J += J_reg", 
      "", 
      "    ", 
      "    #grad0 = 1/m * X.T[0] * (predictions - y)", 
      "    #grad = 1/m * (X.T[1:] * (predictions - y) + lmd * c_[theta[1:]])", 
      "    #grad = r_[grad0, grad]", 
      "    return J[0]#[0]##, grad"
     ], 
     "language": "python", 
     "outputs": [], 
     "prompt_number": 11
    }, 
    {
     "cell_type": "code", 
     "collapsed": false, 
     "input": [
      "costFunctionReg(np.zeros(X.shape[1]), mat(X), y, 1)"
     ], 
     "language": "python", 
     "outputs": [
      {
       "output_type": "pyout", 
       "prompt_number": 12, 
       "text": [
        "160.39425758157239"
       ]
      }
     ], 
     "prompt_number": 12
    }, 
    {
     "cell_type": "code", 
     "collapsed": false, 
     "input": [
      "options = {'full_output': True, 'maxiter': 10} # fmin_powell", 
      "", 
      "optimize.fmin_ncg(lambda t: costFunctionReg(t, mat(X), y, 1),", 
      "                     np.zeros(X.shape[1]), )"
     ], 
     "language": "python", 
     "outputs": [
      {
       "ename": "TypeError", 
       "evalue": "fmin_ncg() takes at least 3 arguments (2 given)", 
       "output_type": "pyerr", 
       "traceback": [
        "\u001b[1;31m---------------------------------------------------------------------------\u001b[0m\n\u001b[1;31mTypeError\u001b[0m                                 Traceback (most recent call last)", 
        "\u001b[1;32mC:\\Documents and Settings\\daniel-ryan\\My Documents\\Machine Learning\\ex3\\<ipython-input-18-1bf169f85d9e>\u001b[0m in \u001b[0;36m<module>\u001b[1;34m()\u001b[0m\n\u001b[0;32m      2\u001b[0m \u001b[1;33m\u001b[0m\u001b[0m\n\u001b[0;32m      3\u001b[0m optimize.fmin_ncg(lambda t: costFunctionReg(t, mat(X), y, 1),\n\u001b[1;32m----> 4\u001b[1;33m                      np.zeros(X.shape[1]))\n\u001b[0m", 
        "\u001b[1;31mTypeError\u001b[0m: fmin_ncg() takes at least 3 arguments (2 given)"
       ]
      }
     ], 
     "prompt_number": 18
    }, 
    {
     "cell_type": "code", 
     "collapsed": false, 
     "input": [
      "np.linalg.pinv(X.T.dot(X)).dot(X.T.dot(y))"
     ], 
     "language": "python", 
     "outputs": [
      {
       "output_type": "pyout", 
       "prompt_number": 33, 
       "text": [
        "array([  4.51762912e+00,  -2.96220931e+00,  -1.38058619e-01,", 
        "         1.96408129e+02,  -1.58973276e+03,   1.63560102e+02,", 
        "        -1.84426947e+01,   1.65087639e+01,  -1.20414765e+01,", 
        "         2.48834826e+01,  -7.42516901e+01,  -2.34170622e+02,", 
        "         3.20910644e+02,  -4.98437853e+02,  -1.27681248e+02,", 
        "         3.18894416e+02,  -1.11780144e+03,   2.40307406e+03,", 
        "         1.19200855e+03,  -1.18681217e+02,  -2.05299140e-01,", 
        "        -1.76668585e+01,  -1.19942745e+02,   4.08630684e+03,", 
        "         2.65154334e+02,   3.21449686e+01,  -5.14455707e+00,", 
        "         3.75790116e+00,  -3.20081334e+00,   9.01010237e+00,", 
        "        -1.53326380e+01,   6.21443613e+01,   3.92733789e+01,", 
        "        -4.41280456e+01,  -9.18440623e+00,   2.71148766e+01,", 
        "        -9.06791451e+01,   1.95898195e+02,   1.36158683e+02,", 
        "        -1.60091154e+02,  -3.37617200e+03,   3.38546341e+03,", 
        "        -6.08014676e+03,  -3.64147944e+02,  -3.72675364e+01,", 
        "        -5.52593131e-01,   1.00016166e+00,  -1.08311015e+00,", 
        "         2.31140221e+00,  -2.76254188e+00,  -5.57933231e-01,", 
        "        -4.44421870e-01,   2.85940748e+00,  -1.88793901e+00,", 
        "        -8.50243837e-01,   7.86850844e-01,  -3.98809735e+00,", 
        "         5.49696978e+00,  -4.13853175e+00,  -1.25651352e+01,", 
        "        -1.22763189e+02,  -2.85872272e+04,  -5.30008913e+02,", 
        "         7.20285169e+00,  -3.89886510e+00,   5.58839007e-01,", 
        "        -1.23834675e+00,   2.86836071e-01,  -4.36250139e-01,", 
        "         8.85024107e-02,   2.75004769e-01,   7.30936245e-01,", 
        "         7.57766312e-01,  -1.39512696e+00,   1.07774733e+00,", 
        "        -1.24193198e+00,  -2.80307613e-01,   1.57800712e+00,", 
        "         3.27547313e+00,  -1.37514108e+00,  -2.66934626e+01,", 
        "         3.51176056e+03,  -6.86920842e+00,  -3.97946582e+00,", 
        "        -4.64833515e-02,  -3.62480645e-02,   1.53201613e-01,", 
        "        -2.05435992e-02,   2.19838347e-01,   6.96184394e-01,", 
        "         4.62323242e-01,  -1.08068716e+00,   5.55672776e-01,", 
        "         2.99040253e-01,  -4.10754819e-01,  -4.99722367e-01,", 
        "         4.61979593e-01,   1.47088145e-01,  -1.72314264e+00,", 
        "         1.03469659e+00,   5.77865401e-02,  -2.33770779e+02,", 
        "        -9.73464955e+00,   1.47975872e+00,  -5.40184189e-01,", 
        "        -3.81389104e-01,   5.07430908e-01,  -1.72272898e-01,", 
        "         7.89820539e-02,   8.80069623e-02,   2.60497694e-01,", 
        "         1.46518348e-01,   7.45772226e-02,  -3.57191876e-01,", 
        "         5.59525203e-01,  -1.63581278e-01,   4.02203786e-01,", 
        "        -9.12915066e-01,   9.50007622e-01,   6.87330782e-01,", 
        "        -2.08495746e+00,   8.24984683e+01,   3.63346506e+00,", 
        "        -1.56605716e+00,   3.30835301e-01,  -7.49128490e-01,", 
        "         1.17879628e-01,   3.88667763e-01,   1.31691022e-01,", 
        "         3.48544297e-01,   3.27438063e-01,  -1.05778875e-01,", 
        "        -2.43138603e-02,   7.74469378e-02,   2.80094104e-01,", 
        "        -1.53884731e-01,  -4.94400888e-02,   5.85453606e-02,", 
        "        -5.68212221e-01,   8.08063433e-01,  -6.85033850e-02,", 
        "        -1.00524108e+01,  -1.94237460e+00,   1.81692706e+00,", 
        "         3.49665048e-02,   3.38042271e-01,  -8.68705790e-02,", 
        "         1.40414807e-01,   7.23599664e-01,   3.46557186e-01,", 
        "        -5.48467550e-02,   3.20740811e-01,  -1.92164619e-01,", 
        "         6.47913395e-01,   1.04903145e-01,  -3.59856209e-02,", 
        "         1.79692943e-01,  -2.56603239e-01,   3.25923224e-01,", 
        "         2.64075946e-02,  -9.76616869e-01,   1.26655670e+00,", 
        "         1.75187221e+00,  -1.43107856e+00,   7.46495946e-02,", 
        "        -7.36484659e-02,   5.54136775e-02,   3.55821724e-01,", 
        "         2.49903486e-01,   2.54472575e-01,   4.55522413e-01,", 
        "         2.15901466e-01,   1.86499506e-01,   3.08566913e-01,", 
        "         3.43292948e-01,  -6.86196361e-02,  -3.85248920e-01,", 
        "         7.28879550e-01,  -3.76397283e-01,   9.70664467e-01,", 
        "        -7.87305878e-01,  -1.17553693e+00,   6.94060166e-01,", 
        "         7.64046776e-01,  -1.26629404e-01,   2.58800879e-01,", 
        "         2.12588316e-01,  -6.92833417e-02,   6.82526798e-01,", 
        "         9.58226183e-01,   1.15998741e-01,  -9.92192720e-02,", 
        "        -4.51469359e-01,  -7.00335291e-01,  -9.43261370e-01,", 
        "         5.42807048e-01,  -1.31303537e-01,   5.98598753e-01,", 
        "        -7.84217004e-01,   1.33514577e+00,  -2.22496636e+00,", 
        "         1.82235580e+00,   2.43206949e+00,  -3.46149233e-01,", 
        "        -1.46289131e-01,   6.33855439e-01,   1.81386407e-01,", 
        "         2.46675808e-01,  -5.70572815e-01,  -1.28869625e+00,", 
        "        -1.11518680e+00,  -1.03509186e-01,  -9.49631202e-01,", 
        "         9.60371045e-03,  -3.16977547e-01,  -3.78759691e-01,", 
        "         1.81170096e-01,  -1.87191412e-01,   3.96085506e-01,", 
        "        -1.19442089e-01,   1.60829538e+00,  -5.87885432e+00,", 
        "        -2.23979944e-01,   6.90381784e-01,  -5.73798180e-02,", 
        "        -3.64075978e-01,   7.66035691e-01,   2.02542746e-03,", 
        "         2.40880017e-01,  -3.93807899e-01,   1.12253496e+00,", 
        "        -2.86422399e-01,   9.81807932e-01,  -6.53001338e-01,", 
        "         2.59209015e-01,  -6.43009756e-01,   2.63407167e-01,", 
        "        -4.26615714e-01,   5.07484854e-01,   9.45355081e-01,", 
        "        -1.35937727e+00,   4.36416477e+00,   6.62273557e-01,", 
        "        -3.00167593e-01,  -1.16836490e-01,   5.99280258e-01,", 
        "         2.59104819e-01,  -9.04245908e-02,  -2.04284892e-01,", 
        "         4.84210947e-01,  -8.48238568e-01,   2.79309793e-01,", 
        "        -9.33340519e-01,   2.56951741e-01,  -3.40853954e-01,", 
        "         1.32245393e-01,  -4.79320103e-01,  -3.81674987e-01,", 
        "         1.47716893e-01,   1.78633917e+00,  -2.39849723e+00,", 
        "         4.78474170e+00,  -2.72461101e-01,   1.00560553e+00,", 
        "        -2.41906711e-01,   1.80418214e-01,  -5.76392764e-01,", 
        "         1.33046528e-01,   7.14542394e-01,  -2.46948779e-01,", 
        "         3.33399550e-01,  -5.47209310e-01,   1.15342797e-02,", 
        "        -5.48916778e-01,   1.13162020e-01,  -5.30188771e-01,", 
        "         5.61325948e-01,  -2.78022563e-02,   4.61821741e-01,", 
        "         2.35573621e+00,  -2.27528177e+00,   8.60802784e-01,", 
        "         8.06788580e-01,  -8.31633946e-01,   1.99541946e-01,", 
        "        -2.31192683e-01,   2.22031936e-01,  -3.03644790e-01,", 
        "         2.93839591e-01,   7.24265430e-01,  -5.00128391e-01,", 
        "        -1.77954338e-01,   8.82938265e-02,   2.98799109e-01,", 
        "        -4.65125190e-01,  -1.22299800e-01,  -6.24882200e-01,", 
        "         2.38491640e-01,  -9.97486934e-01,   5.40683043e-01,", 
        "        -1.61361654e+00,  -2.01400030e+01,  -4.28722077e-01,", 
        "         4.23292208e-01,   2.07309443e-01,  -4.62526860e-03,", 
        "        -1.28417355e-01,   1.41017704e-01,   1.99571417e-01,", 
        "         9.92874679e-02,   6.95232455e-01,   8.70330442e-02,", 
        "        -1.45274281e-01,  -8.10186485e-01,   6.33768752e-01,", 
        "        -4.21891765e-01,  -5.16909164e-01,  -4.30668970e-01,", 
        "         3.38589877e+00,   3.63831183e+00,  -1.82672192e+01,", 
        "        -1.47735284e+02,   2.85865548e+00,  -2.60037845e+00,", 
        "        -7.67187563e-01,  -4.11440663e-01,  -1.66757258e-01,", 
        "        -3.41421742e-02,   6.55914802e-01,   5.07326695e-01,", 
        "         1.59694535e-01,   1.08046326e-01,   6.90219921e-01,", 
        "        -5.30602847e-01,  -4.84254762e-01,  -3.30150705e-03,", 
        "         1.04034064e+00,  -1.50054053e+00,  -2.99619547e+00,", 
        "        -2.23615967e+01,  -2.08542704e+02,  -1.46564075e+03,", 
        "        -6.68138978e+01,  -4.17583873e+00,  -1.40084608e+00,", 
        "        -1.11705841e-01,  -2.29644977e-01,   1.03257317e+00,", 
        "        -9.01524393e-01,   1.29321975e+00,  -1.90021320e-01,", 
        "        -3.75731348e-01,   5.06860847e-01,  -4.28738632e-01,", 
        "        -1.58600229e-01,  -5.90272075e-01,  -1.59455692e-01,", 
        "        -2.51997856e+00,   7.79527064e+00,  -1.73848089e+02,", 
        "        -2.01816928e+03,  -3.89317118e+04,  -1.06777483e+03,", 
        "        -2.40856686e+02,  -2.16459495e+01,  -1.26211737e+00,", 
        "        -1.28122693e+00,  -1.55879984e+00,  -2.12430505e+00,", 
        "        -2.97731115e+00,  -2.51002095e+00,   2.82465368e+00,", 
        "        -1.81819146e+00,  -1.61231948e-01,  -1.46409783e+00,", 
        "         1.73443400e+00,  -3.30010414e+00,  -1.91783953e+00,", 
        "        -6.64010948e+01,  -2.21543031e+03,  -2.50220071e+04,", 
        "        -1.17710158e-09,   2.02289677e+02,  -1.53960573e+03,", 
        "        -1.56757448e+02,  -9.91477207e+00,   2.94879173e+00,", 
        "        -1.65639551e+00,   8.49239395e+00,   6.54616939e+00,", 
        "         2.19698479e+00,  -1.13929899e+01,  -1.35291683e+01,", 
        "         5.04660153e+00,  -1.79311192e+00,  -1.57824517e+01,", 
        "        -4.02763346e+00,   6.76667914e+00,  -5.82353625e+02,", 
        "         3.11046117e+01,   0.00000000e+00])"
       ]
      }
     ], 
     "prompt_number": 33
    }, 
    {
     "cell_type": "code", 
     "collapsed": true, 
     "input": [], 
     "language": "python", 
     "outputs": []
    }
   ]
  }
 ]
}