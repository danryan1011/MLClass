{
 "metadata": {
  "name": "mlex6_spam"
 }, 
 "nbformat": 2, 
 "worksheets": [
  {
   "cells": [
    {
     "cell_type": "code", 
     "collapsed": true, 
     "input": [
      "import numpy as np", 
      "import matplotlib", 
      "import os", 
      "from matplotlib import pylab", 
      "import scipy", 
      "from scipy import io", 
      "import random", 
      "from scipy import optimize", 
      "import sklearn", 
      "from sklearn import svm", 
      "import stemming", 
      "import re", 
      "import csv", 
      "", 
      "os.chdir(\"C:\\Documents and Settings\\daniel-ryan\\My Documents\\Machine Learning\\ex6\")"
     ], 
     "language": "python", 
     "outputs": [], 
     "prompt_number": 13
    }, 
    {
     "cell_type": "code", 
     "collapsed": true, 
     "input": [
      "from stemming.porter2 import stem"
     ], 
     "language": "python", 
     "outputs": [], 
     "prompt_number": 97
    }, 
    {
     "cell_type": "code", 
     "collapsed": false, 
     "input": [
      "vocab = open(\"vocab.txt\",'r')", 
      "vocablist = []", 
      "for line in vocab:", 
      "    g = line.split(\"\\t\")", 
      "    h = g[1].split(\"\\n\")", 
      "    vocablist.append(h[0])", 
      "vocab.close()"
     ], 
     "language": "python", 
     "outputs": [], 
     "prompt_number": 98
    }, 
    {
     "cell_type": "code", 
     "collapsed": false, 
     "input": [
      "email_contents = open(\"emailSample1.txt\", 'r').read()"
     ], 
     "language": "python", 
     "outputs": [], 
     "prompt_number": 107
    }, 
    {
     "cell_type": "code", 
     "collapsed": false, 
     "input": [
      "def processEmail(email_contents):", 
      "    email_contents = email_contents.lower()", 
      "    email_contents = re.sub('<[^<>]+>', ' ', email_contents)", 
      "    email_contents = re.sub('[0-9]+', 'number', email_contents)", 
      "    email_contents = re.sub('(http|https)://[^\\s]*', 'httpaddr', email_contents)", 
      "    email_contents = re.sub('[^\\s]+@[^\\s]+', 'emailaddr', email_contents)", 
      "    email_contents = re.sub('[$]+', 'dollar', email_contents)", 
      "    email_contents = re.split('[ @$/#.-:&*+=\\[\\]?!(){},\\'\\'\">_<;%\\n]+', email_contents)", 
      "    email_contents = map(lambda x: re.sub('[^a-zA-Z0-9]', '', x), email_contents)", 
      "    email_contents = map(stem, email_contents)", 
      "    word_indices = [vocablist.index(x) for x in email_contents if x in vocablist]", 
      "    return word_indices"
     ], 
     "language": "python", 
     "outputs": [], 
     "prompt_number": 109
    }, 
    {
     "cell_type": "code", 
     "collapsed": false, 
     "input": [
      "word_indices = processEmail(email_contents)"
     ], 
     "language": "python", 
     "outputs": [], 
     "prompt_number": 111
    }, 
    {
     "cell_type": "code", 
     "collapsed": false, 
     "input": [
      "def emailFeatures(word_indices):", 
      "    features = np.zeros(len(vocablist))", 
      "    for i in word_indices:", 
      "        features[i] = 1", 
      "    return features"
     ], 
     "language": "python", 
     "outputs": [], 
     "prompt_number": 115
    }, 
    {
     "cell_type": "code", 
     "collapsed": false, 
     "input": [
      "features = emailFeatures(word_indices)", 
      "                        "
     ], 
     "language": "python", 
     "outputs": [], 
     "prompt_number": 116
    }, 
    {
     "cell_type": "code", 
     "collapsed": false, 
     "input": [
      "spam_training_data = data1 = scipy.io.loadmat('spamTrain')", 
      "X = spam_training_data['X']", 
      "y = spam_training_data['y'].T[0]", 
      "spam_test_data = data1 = scipy.io.loadmat('spamTest')", 
      "Xtest = spam_test_data['Xtest']", 
      "ytest = spam_test_data['ytest'].T[0]"
     ], 
     "language": "python", 
     "outputs": [], 
     "prompt_number": 125
    }, 
    {
     "cell_type": "code", 
     "collapsed": false, 
     "input": [
      "#Train with spam dataset", 
      "spam = svm.LinearSVC()", 
      "spam.C = .1", 
      "spam.fit(X,y)", 
      "", 
      "1 - sum((spam.predict(Xtest)-ytest)**2)/(1.*len(ytest))"
     ], 
     "language": "python", 
     "outputs": [
      {
       "output_type": "pyout", 
       "prompt_number": 134, 
       "text": [
        "0.99199999999999999"
       ]
      }
     ], 
     "prompt_number": 134
    }, 
    {
     "cell_type": "code", 
     "collapsed": true, 
     "input": [], 
     "language": "python", 
     "outputs": []
    }
   ]
  }
 ]
}