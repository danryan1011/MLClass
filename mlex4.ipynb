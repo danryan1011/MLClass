{
 "metadata": {
  "name": "mlex4"
 }, 
 "nbformat": 2, 
 "worksheets": [
  {
   "cells": [
    {
     "cell_type": "code", 
     "collapsed": true, 
     "input": [
      "import numpy as np", 
      "import matplotlib", 
      "import os", 
      "from matplotlib import pylab", 
      "import scipy", 
      "from scipy import io", 
      "import random", 
      "", 
      "os.chdir(\"C:\\Documents and Settings\\daniel-ryan\\My Documents\\Machine Learning\\ex4\")"
     ], 
     "language": "python", 
     "outputs": [], 
     "prompt_number": 84
    }, 
    {
     "cell_type": "code", 
     "collapsed": true, 
     "input": [
      "from scipy import optimize"
     ], 
     "language": "python", 
     "outputs": [], 
     "prompt_number": 182
    }, 
    {
     "cell_type": "code", 
     "collapsed": true, 
     "input": [
      "data = scipy.io.loadmat('ex4data1')", 
      "X = data['X']", 
      "X = np.hstack((c_[np.ones(len(X))],X))", 
      "y = data['y'].T[0]"
     ], 
     "language": "python", 
     "outputs": [], 
     "prompt_number": 2
    }, 
    {
     "cell_type": "code", 
     "collapsed": false, 
     "input": [
      "y_vector = np.zeros((len(y),10))", 
      "for i in range(len(y)):", 
      "    y_vector[i, y[i]-1] = 1"
     ], 
     "language": "python", 
     "outputs": [
      {
       "output_type": "pyout", 
       "prompt_number": 50, 
       "text": [
        "array([[ 0.,  0.,  0., ...,  0.,  0.,  1.],", 
        "       [ 0.,  0.,  0., ...,  0.,  0.,  1.],", 
        "       [ 0.,  0.,  0., ...,  0.,  0.,  1.],", 
        "       ..., ", 
        "       [ 0.,  0.,  0., ...,  0.,  1.,  0.],", 
        "       [ 0.,  0.,  0., ...,  0.,  1.,  0.],", 
        "       [ 0.,  0.,  0., ...,  0.,  1.,  0.]])"
       ]
      }
     ], 
     "prompt_number": 50
    }, 
    {
     "cell_type": "code", 
     "collapsed": true, 
     "input": [
      "theta_data = scipy.io.loadmat('ex4weights')", 
      "Theta1 = theta_data['Theta1']", 
      "Theta2 = theta_data['Theta2']"
     ], 
     "language": "python", 
     "outputs": [], 
     "prompt_number": 3
    }, 
    {
     "cell_type": "code", 
     "collapsed": true, 
     "input": [
      "def sigmoid(x):", 
      "    return 1/(1+exp(-x))"
     ], 
     "language": "python", 
     "outputs": [], 
     "prompt_number": 4
    }, 
    {
     "cell_type": "code", 
     "collapsed": true, 
     "input": [
      "def predict(theta1, theta2, X):", 
      "    vals = range(10)", 
      "    print theta1", 
      "    a2 = sigmoid(theta1.dot(X))", 
      "    print a2", 
      "    a2 = hstack((np.ones(1), a2))", 
      "    print a2", 
      "    a3 = sigmoid(theta2.dot(a2))", 
      "    print a3", 
      "    return a3.argmax()+1"
     ], 
     "language": "python", 
     "outputs": [], 
     "prompt_number": 8
    }, 
    {
     "cell_type": "code", 
     "collapsed": false, 
     "input": [
      "def nnCostFunction(nn_params, input_layer_size, hidden_layer_size, num_labels, X, y, lmd):", 
      "    Theta1 = nn_params[:hidden_layer_size * (input_layer_size)].reshape(hidden_layer_size,", 
      "                                                                            (input_layer_size))", 
      "    Theta2 = nn_params[hidden_layer_size * (input_layer_size):].reshape( num_labels, ", 
      "                                                                              (hidden_layer_size+1))", 
      "    delta2 = np.zeros(Theta1.shape)", 
      "    delta3 = np.zeros(Theta2.shape)", 
      "    ", 
      "    m = len(X)*1.", 
      "    J = 0", 
      "    for i in range(len(X)):", 
      "        a1 = X[i]", 
      "        z2 = hstack((np.ones(1),Theta1.dot(a1)))", 
      "        a2 = sigmoid(z2)", 
      "        z3 = Theta2.dot(a2)", 
      "        a3 = sigmoid(z3)", 
      "        #print a3.shape", 
      "        ", 
      "        #calculate cost", 
      "        Ji = sum(-y[i]*log(a3)-(1-y[i])*log(1 - a3))", 
      "        J += Ji", 
      "        ", 
      "        #calculate gradient", 
      "        d3 = a3 - y[i]", 
      "        d2 = Theta2.T.dot(d3)*sigmoidGradient(z2)", 
      "        delta3 += c_[d3].dot(c_[a2].T)", 
      "        delta2 += c_[d2[1:]].dot(c_[a1].T)", 
      "        ", 
      "        ", 
      "    reg_term = (sum(Theta1[:,1:].reshape((len(Theta1)*(len(Theta1[0])-1)))**2) ", 
      "                + sum(Theta2[:,1:].reshape((len(Theta2)*(len(Theta2[0])-1)))**2))", 
      "    ", 
      "    grad_reg_term1 = vstack((np.zeros(len(Theta1)),(Theta1[:,1:] * lmd/m).T)).T", 
      "    grad_reg_term2 = vstack((np.zeros(len(Theta2)),(Theta2[:,1:] * lmd/m).T)).T", 
      "    ", 
      "    return (J/m + lmd/(2.*m)*reg_term), delta2/m + grad_reg_term1, delta3/m + grad_reg_term2", 
      "    ", 
      "    "
     ], 
     "language": "python", 
     "outputs": [], 
     "prompt_number": 170
    }, 
    {
     "cell_type": "code", 
     "collapsed": true, 
     "input": [
      "def feedForward(theta1, theta2, X):", 
      "    a2 = sigmoid(theta1.dot(X))", 
      "    a2 = hstack((np.ones(1), a2))", 
      "    a3 = sigmoid(theta2.dot(a2))", 
      "    return a3"
     ], 
     "language": "python", 
     "outputs": [], 
     "prompt_number": 13
    }, 
    {
     "cell_type": "code", 
     "collapsed": true, 
     "input": [
      "def sigmoidGradient(z):", 
      "    g = sigmoid(z)", 
      "    return g*(1-g)"
     ], 
     "language": "python", 
     "outputs": [], 
     "prompt_number": 78
    }, 
    {
     "cell_type": "code", 
     "collapsed": true, 
     "input": [
      "def randInitializeWeights(L_in, L_out):", 
      "    epsilon = sqrt(6)/sqrt(L_in + L_out)", 
      "    W = np.random.random((L_out, L_in +1))", 
      "    #W = np.ones((L_out, L_in + 1))", 
      "    for i in range(len(W)):", 
      "        for j in range(len(W[i])):", 
      "             W[i,j] = 2*W[i,j]*epsilon - epsilon", 
      "    #print epsilon", 
      "    return W", 
      "            ", 
      "    "
     ], 
     "language": "python", 
     "outputs": [], 
     "prompt_number": 176
    }, 
    {
     "cell_type": "code", 
     "collapsed": false, 
     "input": [
      "initial_theta1 = randInitializeWeights(Theta1.shape[1]-1, Theta1.shape[0])", 
      "initial_theta2 = randInitializeWeights(Theta2.shape[1]-1, Theta2.shape[0])", 
      "initial_theta_params = np.hstack((initial_theta1.reshape(len(initial_theta1)*len(initial_theta1[0])), ", 
      "                                  initial_theta2.reshape(len(initial_theta2)*len(initial_theta2[0]))))", 
      "initial_theta_params"
     ], 
     "language": "python", 
     "outputs": [
      {
       "output_type": "pyout", 
       "prompt_number": 201, 
       "text": [
        "array([ 0.02158386, -0.05172798,  0.03406397, ...,  0.07552432,", 
        "       -0.34569916,  0.05877804])"
       ]
      }
     ], 
     "prompt_number": 201
    }, 
    {
     "cell_type": "code", 
     "collapsed": false, 
     "input": [
      "nn_params = np.hstack((Theta1.reshape(len(Theta1)*len(Theta1[0])), Theta2.reshape(len(Theta2)*len(Theta2[0]))))"
     ], 
     "language": "python", 
     "outputs": [], 
     "prompt_number": 147
    }, 
    {
     "cell_type": "code", 
     "collapsed": false, 
     "input": [
      "#nnCostFunction(nn_params, len(X[0]), len(Theta1), 10, X, y_vector, 1)", 
      "#gradFunction(initial_theta_params, len(X[0]), len(Theta1), 10, X, y_vector, 1)", 
      "initial_theta1.shape", 
      "#nn_params.shape"
     ], 
     "language": "python", 
     "outputs": [
      {
       "output_type": "pyout", 
       "prompt_number": 202, 
       "text": [
        "(25, 401)"
       ]
      }
     ], 
     "prompt_number": 202
    }, 
    {
     "cell_type": "code", 
     "collapsed": false, 
     "input": [
      "def costFunction(nn_params, input_layer_size, hidden_layer_size, num_labels, X, y, lmd):", 
      "    return nnCostFunction(nn_params, input_layer_size, hidden_layer_size, num_labels, X, y, lmd)[0]", 
      "", 
      "def gradFunction(nn_params, input_layer_size, hidden_layer_size, num_labels, X, y, lmd):", 
      "    _, grad2, grad3 = nnCostFunction(nn_params, input_layer_size, hidden_layer_size, num_labels, X, y, lmd)", 
      "    return np.hstack((grad2.reshape(len(grad2)*len(grad2[0])), grad3.reshape(len(grad3)*len(grad3[0]))))", 
      "    ", 
      "options = {'maxiter': 100}", 
      "", 
      "min_theta = optimize.fmin_cg(lambda t: costFunction(t, len(X[0]), len(Theta1), 10, X, y_vector, 1),", 
      "                   initial_theta_params, lambda t: gradFunction(t, len(X[0]), len(Theta1), 10, X, y_vector, 1),", 
      "                   **options)", 
      "                   "
     ], 
     "language": "python", 
     "outputs": [
      {
       "output_type": "stream", 
       "stream": "stdout", 
       "text": [
        "Warning: Maximum number of iterations has been exceeded", 
        "         Current function value: 0.320892", 
        "         Iterations: 400", 
        "         Function evaluations: 881", 
        "         Gradient evaluations: 881"
       ]
      }
     ], 
     "prompt_number": 212
    }, 
    {
     "cell_type": "code", 
     "collapsed": false, 
     "input": [
      "Theta2.shape"
     ], 
     "language": "python", 
     "outputs": [
      {
       "output_type": "pyout", 
       "prompt_number": 159, 
       "text": [
        "(10, 26)"
       ]
      }
     ], 
     "prompt_number": 159
    }, 
    {
     "cell_type": "code", 
     "collapsed": false, 
     "input": [
      "prediction = feedForward(Theta1, Theta2, X[0])", 
      "sum(-y[0]*log(prediction)-(1-y[0])*log(1 - prediction))"
     ], 
     "language": "python", 
     "outputs": [
      {
       "output_type": "pyout", 
       "prompt_number": 59, 
       "text": [
        "-14953.572586979033"
       ]
      }
     ], 
     "prompt_number": 59
    }, 
    {
     "cell_type": "code", 
     "collapsed": false, 
     "input": [
      "nnCostFunction(min_theta, len(X[0]), len(Theta1), 10, X, y_vector, 1)"
     ], 
     "language": "python", 
     "outputs": [
      {
       "output_type": "pyout", 
       "prompt_number": 211, 
       "text": [
        "(0.38861657620969603,", 
        " array([[  9.16138035e-04,  -4.40678658e-06,   2.90196211e-06, ...,", 
        "          6.42057509e-06,   4.46141092e-06,   4.90250458e-06],", 
        "       [  1.22493647e-03,  -5.39529934e-06,   5.72499043e-07, ...,", 
        "          1.23299963e-06,   2.32267727e-06,   1.15268939e-07],", 
        "       [ -3.82182935e-04,  -7.20835246e-06,   5.60402587e-06, ...,", 
        "          7.80828533e-06,  -5.92568900e-06,  -9.80620002e-06],", 
        "       ..., ", 
        "       [  1.37531311e-03,   6.23267999e-07,  -7.97878309e-06, ...,", 
        "         -2.71789575e-06,   9.34195111e-06,  -3.38737124e-06],", 
        "       [ -1.67064835e-04,  -7.25108463e-06,   4.92393730e-06, ...,", 
        "         -8.98862527e-06,  -7.40726133e-06,  -5.99725395e-06],", 
        "       [ -4.14867233e-04,   2.32061088e-06,   3.02723634e-06, ...,", 
        "         -1.50425719e-06,  -1.13300316e-06,   4.01679403e-06]]),", 
        " array([[  2.76852869e-04,   2.36250008e-04,   1.45870082e-04,", 
        "          8.13169655e-05,   1.83544384e-04,  -5.89587705e-05,", 
        "          3.22207638e-05,   4.13915963e-05,   1.33871097e-04,", 
        "          4.04193453e-05,   3.77191934e-05,   6.94546605e-05,", 
        "          2.79573083e-04,  -2.12300009e-05,  -2.45246672e-04,", 
        "         -1.90229310e-05,   1.55468080e-04,   3.52937502e-04,", 
        "          2.39247066e-04,  -3.24552573e-06,  -6.54235319e-05,", 
        "         -3.60697592e-05,   4.77426572e-05,   2.42233949e-04,", 
        "          1.97414112e-04,   2.00618916e-04],", 
        "       [ -7.58182581e-04,  -4.44866711e-04,  -4.67651557e-04,", 
        "         -8.14866973e-04,  -6.37165276e-04,  -7.28365036e-05,", 
        "         -1.03814508e-03,  -7.29054665e-04,  -2.17110857e-04,", 
        "         -3.48343216e-04,  -7.48777288e-04,  -8.03189703e-04,", 
        "         -6.25022983e-04,  -6.87852886e-05,  -2.52724928e-05,", 
        "          1.80121424e-05,  -7.26112551e-04,  -9.35903331e-04,", 
        "         -5.96340819e-04,  -7.58109687e-05,  -2.88463606e-04,", 
        "         -8.90057246e-05,  -4.04937833e-04,  -4.57237574e-04,", 
        "         -4.42510341e-04,  -9.39426099e-04],", 
        "       [  5.55184314e-05,  -1.49794143e-04,  -2.49874812e-04,", 
        "         -4.08933867e-05,   1.03696848e-04,  -4.92936851e-05,", 
        "         -4.54788952e-05,   1.46194562e-04,   3.48366830e-05,", 
        "          5.20733099e-07,   1.59410780e-05,  -6.62443015e-05,", 
        "         -1.24474737e-04,  -6.69194320e-05,   4.89421452e-05,", 
        "          9.36835705e-06,   4.31340118e-06,   4.74773109e-05,", 
        "         -2.50807717e-04,  -9.87353463e-05,   1.58920337e-05,", 
        "         -7.40547799e-05,  -2.22819543e-05,  -5.14543467e-05,", 
        "         -9.64481620e-05,  -2.39321830e-04],", 
        "       [ -7.55604507e-07,  -1.88902550e-04,  -5.16155594e-05,", 
        "          1.25056614e-04,  -8.82386279e-05,  -4.90523987e-05,", 
        "          4.36740083e-05,   1.58211563e-04,   1.22247999e-05,", 
        "          7.83262402e-05,  -1.48556703e-04,  -3.19157412e-04,", 
        "          9.90855702e-05,  -3.55610048e-05,   3.46913444e-05,", 
        "         -3.48725491e-04,   6.96233963e-05,   1.29079743e-04,", 
        "          7.13066607e-05,  -5.12627325e-05,  -2.86912800e-05,", 
        "         -4.14503278e-05,   1.95155335e-04,  -2.16329132e-04,", 
        "         -1.92199057e-04,   2.06495341e-04],", 
        "       [  5.84640909e-04,  -7.77388323e-05,  -1.26528676e-05,", 
        "          4.11300695e-04,   8.65887679e-05,  -5.82325603e-05,", 
        "          6.24996010e-05,  -1.70366922e-04,  -6.78517193e-06,", 
        "          1.47702082e-04,   5.46855221e-04,   5.14452688e-04,", 
        "          2.74103415e-04,  -6.36492429e-05,  -1.25313045e-05,", 
        "         -9.62697512e-05,   4.77859252e-04,  -1.85669955e-04,", 
        "          2.43219305e-04,  -3.84952514e-05,   9.06832495e-05,", 
        "         -5.26731165e-05,   4.44633323e-04,  -9.78607258e-05,", 
        "          3.23677302e-04,   3.71885077e-04],", 
        "       [  2.67260313e-04,   1.81625741e-05,  -3.23410056e-04,", 
        "          3.54587830e-04,   3.41323391e-05,  -7.91726226e-05,", 
        "         -1.04676194e-04,  -1.99818352e-04,   1.34108960e-05,", 
        "          5.39629587e-05,   6.36961687e-05,   1.10204659e-05,", 
        "         -1.23318734e-04,  -5.85845733e-05,  -1.40196259e-04,", 
        "         -3.74744604e-05,   1.66456253e-04,  -1.19108232e-04,", 
        "         -9.54409686e-05,  -6.82256200e-05,  -1.07918270e-04,", 
        "         -1.21931433e-04,  -7.69286483e-06,  -1.24890808e-04,", 
        "         -2.50706183e-04,   1.54730079e-04],", 
        "       [  3.18026804e-04,   1.14621234e-06,   1.06423601e-04,", 
        "          1.76652722e-04,  -7.89347725e-05,  -1.58865960e-06,", 
        "          9.24829284e-06,   2.81407085e-05,   2.90171354e-05,", 
        "          3.43388590e-04,   5.18819834e-05,   2.28840696e-04,", 
        "          2.31086072e-04,  -3.99657938e-05,  -8.15951123e-05,", 
        "         -1.98273544e-05,   2.90197032e-04,  -8.20929367e-05,", 
        "          3.56673138e-04,   2.59982830e-05,   1.99874937e-04,", 
        "         -1.33099324e-05,  -2.20769996e-04,   2.07440450e-04,", 
        "          1.17770832e-04,   1.47483588e-04],", 
        "       [ -4.17909522e-04,  -1.86610968e-04,  -7.37455865e-04,", 
        "         -4.96303470e-04,  -8.27781393e-04,  -1.13717842e-04,", 
        "         -6.85095513e-04,   1.21919307e-04,  -6.66240534e-05,", 
        "         -3.68289516e-04,  -5.13830066e-04,  -6.23505086e-04,", 
        "         -3.14700542e-04,  -9.16120370e-05,  -1.34631174e-05,", 
        "          4.31952818e-05,  -4.95657926e-04,  -2.03141914e-04,", 
        "         -5.82196864e-04,  -1.18219587e-04,  -3.76987437e-04,", 
        "         -1.09325447e-04,  -2.17736585e-04,  -3.13183058e-04,", 
        "         -2.45302479e-04,  -8.85614216e-05],", 
        "       [  7.47995118e-04,   5.16183145e-04,   8.18087283e-04,", 
        "          1.27434750e-04,   6.91584504e-04,  -1.56573610e-05,", 
        "          6.63238133e-04,  -4.47460755e-05,   7.57503394e-05,", 
        "          5.21898525e-05,   5.16165312e-04,   5.02269330e-04,", 
        "          3.03331524e-04,  -4.12898793e-05,   3.05741513e-04,", 
        "          1.76625668e-04,   3.17395991e-04,   1.46407895e-04,", 
        "          5.33232114e-04,   2.53176130e-05,   6.30960908e-04,", 
        "          3.97049775e-05,   1.75621184e-04,   6.48019891e-04,", 
        "          4.30040317e-04,   9.72502410e-05],", 
        "       [ -9.71347274e-04,  -2.07064439e-04,  -4.42149588e-04,", 
        "         -1.44204029e-03,  -2.76939037e-04,  -9.12347688e-05,", 
        "         -1.28892725e-03,  -1.75626087e-04,  -1.01433137e-03,", 
        "         -9.60580385e-04,  -1.13368469e-03,  -1.45698194e-03,", 
        "         -2.20432982e-04,  -6.31501778e-05,  -8.30021918e-04,", 
        "         -1.64002943e-04,  -1.21091291e-03,  -1.89842437e-04,", 
        "         -5.65560378e-04,  -7.18240273e-05,  -3.16019428e-04,", 
        "         -8.75258519e-05,  -1.18164154e-03,  -1.41376604e-04,", 
        "         -2.15536633e-04,  -2.43507249e-04]]))"
       ]
      }
     ], 
     "prompt_number": 211
    }, 
    {
     "cell_type": "code", 
     "collapsed": true, 
     "input": [], 
     "language": "python", 
     "outputs": []
    }
   ]
  }
 ]
}