{
 "metadata": {
  "name": "mlex1"
 }, 
 "nbformat": 2, 
 "worksheets": [
  {
   "cells": [
    {
     "cell_type": "code", 
     "collapsed": true, 
     "input": [
      "import numpy as np", 
      "import matplotlib", 
      "import os"
     ], 
     "language": "python", 
     "outputs": [], 
     "prompt_number": 4
    }, 
    {
     "cell_type": "code", 
     "collapsed": true, 
     "input": [
      "os.chdir(\"C:\\Documents and Settings\\daniel-ryan\\My Documents\\Machine Learning\\ex1\")"
     ], 
     "language": "python", 
     "outputs": [], 
     "prompt_number": 5
    }, 
    {
     "cell_type": "code", 
     "collapsed": true, 
     "input": [
      "data = np.loadtxt('ex1data2.txt', delimiter=\",\")"
     ], 
     "language": "python", 
     "outputs": [], 
     "prompt_number": 149
    }, 
    {
     "cell_type": "code", 
     "collapsed": false, 
     "input": [
      "scatter(data[:,0], data[:,1],marker='x', c='r')", 
      "ylim(0,30)", 
      "xlim(0,30)"
     ], 
     "language": "python", 
     "outputs": [
      {
       "output_type": "pyout", 
       "prompt_number": 150, 
       "text": [
        "(0, 30)"
       ]
      }, 
      {
       "output_type": "display_data", 
       "png": "[encoded data removed]"
      }
     ], 
     "prompt_number": 150
    }, 
    {
     "cell_type": "code", 
     "collapsed": false, 
     "input": [
      "g = np.array([np.ones(len(data[:,0]))])", 
      "X = np.hstack((g.T,featureNormalize(data)[0]))[:,:len(data[0])]", 
      "y = data[:, len(data[0])-1]", 
      "theta = np.zeros(len(data[0]))"
     ], 
     "language": "python", 
     "outputs": [], 
     "prompt_number": 255
    }, 
    {
     "cell_type": "code", 
     "collapsed": false, 
     "input": [
      "def computeCost(X, y, theta):", 
      "    return 1./(2*len(X))*sum((np.dot(X, theta)-y)*(np.dot(X, theta)-y))"
     ], 
     "language": "python", 
     "outputs": [], 
     "prompt_number": 104
    }, 
    {
     "cell_type": "code", 
     "collapsed": false, 
     "input": [
      "computeCost(X, y, theta)"
     ], 
     "language": "python", 
     "outputs": [
      {
       "output_type": "pyout", 
       "prompt_number": 105, 
       "text": [
        "32.072733877455654"
       ]
      }
     ], 
     "prompt_number": 105
    }, 
    {
     "cell_type": "code", 
     "collapsed": false, 
     "input": [
      "sum((np.dot(X, theta)-y)*(np.dot(X, theta)-y))"
     ], 
     "language": "python", 
     "outputs": [
      {
       "output_type": "pyout", 
       "prompt_number": 101, 
       "text": [
        "6222.110372226397"
       ]
      }
     ], 
     "prompt_number": 101
    }, 
    {
     "cell_type": "code", 
     "collapsed": false, 
     "input": [
      "def featureNormalize(X):", 
      "    mu = np.array([np.mean(X[:,i]) for i in range(X.shape[1])])", 
      "    sigma = np.array([np.std(X[:,i]) for i in range(X.shape[1])])", 
      "    return (X - mu)/sigma, mu, sigma"
     ], 
     "language": "python", 
     "outputs": [], 
     "prompt_number": 254
    }, 
    {
     "cell_type": "code", 
     "collapsed": false, 
     "input": [
      "def gradientDescent(X, y, theta, alpha, num_iters):", 
      "    J_history = []", 
      "    m = len(y)", 
      "    new_theta = np.zeros(len(theta))", 
      "    for i in range(num_iters):", 
      "        for j in range(len(theta)):", 
      "            new_theta[j] = theta[j] - alpha*(1./m)*sum((np.dot(X, theta)-y)*X[:,j])", 
      "            #print alpha*(1./m)*sum((np.dot(X, theta)-y)*X[:,j])", 
      "        theta = new_theta", 
      "        #print theta", 
      "        J_history.append(computeCost(X,y,new_theta))", 
      "    return J_history, theta", 
      "                     "
     ], 
     "language": "python", 
     "outputs": [], 
     "prompt_number": 249
    }, 
    {
     "cell_type": "code", 
     "collapsed": false, 
     "input": [
      "plot(gradientDescent(X, y, theta, .1, 50)[0])"
     ], 
     "language": "python", 
     "outputs": [
      {
       "output_type": "pyout", 
       "prompt_number": 261, 
       "text": [
        "[<matplotlib.lines.Line2D at 0x367d8d0>]"
       ]
      }, 
      {
       "output_type": "display_data", 
       "png": "[encoded data removed]"
      }
     ], 
     "prompt_number": 261
    }, 
    {
     "cell_type": "code", 
     "collapsed": false, 
     "input": [
      "gradientDescent2(X, y, theta, .1, 100)"
     ], 
     "language": "python", 
     "outputs": [
      {
       "output_type": "pyout", 
       "prompt_number": 263, 
       "text": [
        "(array([ 340403.61773803,  108803.37852266,   -5933.9413402 ]),", 
        " array([  5.32682599e+10,   4.33890843e+10,   3.54574304e+10,", 
        "         2.90805547e+10,   2.39470789e+10,   1.98095730e+10,", 
        "         1.64710108e+10,   1.37742034e+10,   1.15935242e+10,", 
        "         9.82841238e+09,   8.39825400e+09,   7.23834012e+09,", 
        "         6.29666589e+09,   5.53139023e+09,   4.90881531e+09,", 
        "         4.40177630e+09,   3.98835592e+09,   3.65085642e+09,", 
        "         3.37497638e+09,   3.14915057e+09,   2.96401994e+09,", 
        "         2.81200564e+09,   2.68696628e+09,   2.58392200e+09,", 
        "         2.49883199e+09,   2.42841517e+09,   2.37000541e+09,", 
        "         2.32143461e+09,   2.28093826e+09,   2.24707909e+09,", 
        "         2.21868527e+09,   2.19480043e+09,   2.17464323e+09,", 
        "         2.15757453e+09,   2.14307089e+09,   2.13070296e+09,", 
        "         2.12011811e+09,   2.11102617e+09,   2.10318797e+09,", 
        "         2.09640599e+09,   2.09051677e+09,   2.08538470e+09,", 
        "         2.08089704e+09,   2.07695979e+09,   2.07349437e+09,", 
        "         2.07043490e+09,   2.06772597e+09,   2.06532084e+09,", 
        "         2.06317993e+09,   2.06126963e+09,   2.05956128e+09,", 
        "         2.05803037e+09,   2.05665585e+09,   2.05541957e+09,", 
        "         2.05430586e+09,   2.05330109e+09,   2.05239340e+09,", 
        "         2.05157242e+09,   2.05082905e+09,   2.05015530e+09,", 
        "         2.04954410e+09,   2.04898920e+09,   2.04848505e+09,", 
        "         2.04802672e+09,   2.04760980e+09,   2.04723036e+09,", 
        "         2.04688486e+09,   2.04657015e+09,   2.04628336e+09,", 
        "         2.04602195e+09,   2.04578359e+09,   2.04556619e+09,", 
        "         2.04536787e+09,   2.04518692e+09,   2.04502177e+09,", 
        "         2.04487104e+09,   2.04473344e+09,   2.04460780e+09,", 
        "         2.04449308e+09,   2.04438832e+09,   2.04429265e+09,", 
        "         2.04420526e+09,   2.04412544e+09,   2.04405252e+09,", 
        "         2.04398591e+09,   2.04392506e+09,   2.04386946e+09,", 
        "         2.04381866e+09,   2.04377225e+09,   2.04372984e+09,", 
        "         2.04369110e+09,   2.04365569e+09,   2.04362333e+09,", 
        "         2.04359377e+09,   2.04356675e+09,   2.04354206e+09,", 
        "         2.04351950e+09,   2.04349888e+09,   2.04348004e+09,", 
        "         2.04346282e+09]))"
       ]
      }
     ], 
     "prompt_number": 263
    }, 
    {
     "cell_type": "code", 
     "collapsed": false, 
     "input": [
      "new_theta = np.zeros(len(theta))", 
      "new_theta[0] = 5", 
      "new_theta"
     ], 
     "language": "python", 
     "outputs": [
      {
       "output_type": "pyout", 
       "prompt_number": 111, 
       "text": [
        "array([ 5.,  0.])"
       ]
      }
     ], 
     "prompt_number": 111
    }, 
    {
     "cell_type": "code", 
     "collapsed": false, 
     "input": [
      "plot(X[:,1],np.dot(X,np.array([-0.26566075,  0.82900485])))"
     ], 
     "language": "python", 
     "outputs": [
      {
       "output_type": "pyout", 
       "prompt_number": 140, 
       "text": [
        "[<matplotlib.lines.Line2D at 0x3662330>]"
       ]
      }, 
      {
       "output_type": "display_data", 
       "png": "[encoded data removed]"
      }
     ], 
     "prompt_number": 140
    }, 
    {
     "cell_type": "code", 
     "collapsed": false, 
     "input": [
      "np.dot(X,np.array([-0.26566075,  0.82900485]))"
     ], 
     "language": "python", 
     "outputs": [
      {
       "output_type": "pyout", 
       "prompt_number": 136, 
       "text": [
        "array([  4.79964178,   4.31682936,   6.79629997,   5.54002602,", 
        "         4.59214187,   6.68380401,   5.93231111,   6.84562575,", 
        "         5.11143051,   3.92462716,   4.46853725,  11.47636395,", 
        "         4.48785306,   6.70494363,   4.41050691,   4.19388794,", 
        "         5.01128672,   3.98721703,   5.06450883,   5.59606674,", 
        "         4.86513317,  16.53826756,   4.28565878,   4.97870683,", 
        "         4.34766834,  15.43983613,  10.36881347,   8.81774539,", 
        "        10.65730715,  18.14073393,   4.08860432,   5.19698381,", 
        "         7.4011419 ,   4.61867003,   6.54138097,   6.31116633,", 
        "         6.44587962,   4.38198914,  10.3754455 ,   5.00133866,", 
        "         4.21668557,   5.43996513,   9.44032803,   4.52076455,", 
        "         6.2210535 ,   5.61455355,   3.93755964,   4.54372799,", 
        "         9.43369599,   4.32835253,   5.98520162,   4.13444829,", 
        "         5.88878836,   6.03734603,   4.98426116,   5.00589819,", 
        "         4.93568148,   4.4096779 ,   7.4525402 ,   7.5714195 ,", 
        "         7.05063865,   4.02800407,  17.37473345,  12.09314355,", 
        "        15.4514422 ,   5.71826206,   6.61101738,   8.22003289,", 
        "         4.29336852,  16.5971269 ,   8.13713241,   5.81467532,", 
        "         4.71350818,   5.7246454 ,   3.90166373,   5.16258011,", 
        "         5.98387521,   3.90962218,   8.25153508,   3.96864732,", 
        "         4.48387384,   4.03554801,   5.00324538,   7.83263893,", 
        "         5.13605195,   6.79513936,   7.34476957,   4.71002636,", 
        "         4.31077762,   3.92860639,   4.46605023,   6.06511769,", 
        "         4.60117802,   4.13254158,   6.60960807,  10.83803021,   4.24155572])"
       ]
      }
     ], 
     "prompt_number": 136
    }, 
    {
     "cell_type": "code", 
     "collapsed": false, 
     "input": [
      "np.dot(X, theta)-y*X[:,0]"
     ], 
     "language": "python", 
     "outputs": [
      {
       "output_type": "pyout", 
       "prompt_number": 216, 
       "text": [
        "array([-399900., -329900., -369000., -232000., -539900., -299900.,", 
        "       -314900., -198999., -212000., -242500., -239999., -347000.,", 
        "       -329999., -699900., -259900., -449900., -299900., -199900.,", 
        "       -499998., -599000., -252900., -255000., -242900., -259900.,", 
        "       -573900., -249900., -464500., -469000., -475000., -299900.,", 
        "       -349900., -169900., -314900., -579900., -285900., -249900.,", 
        "       -229900., -345000., -549000., -287000., -368500., -329900.,", 
        "       -314000., -299000., -179900., -299900., -239500.])"
       ]
      }
     ], 
     "prompt_number": 216
    }, 
    {
     "cell_type": "code", 
     "collapsed": false, 
     "input": [
      "y"
     ], 
     "language": "python", 
     "outputs": [
      {
       "output_type": "pyout", 
       "prompt_number": 227, 
       "text": [
        "array([ 399900.,  329900.,  369000.,  232000.,  539900.,  299900.,", 
        "        314900.,  198999.,  212000.,  242500.,  239999.,  347000.,", 
        "        329999.,  699900.,  259900.,  449900.,  299900.,  199900.,", 
        "        499998.,  599000.,  252900.,  255000.,  242900.,  259900.,", 
        "        573900.,  249900.,  464500.,  469000.,  475000.,  299900.,", 
        "        349900.,  169900.,  314900.,  579900.,  285900.,  249900.,", 
        "        229900.,  345000.,  549000.,  287000.,  368500.,  329900.,", 
        "        314000.,  299000.,  179900.,  299900.,  239500.])"
       ]
      }
     ], 
     "prompt_number": 227
    }, 
    {
     "cell_type": "code", 
     "collapsed": false, 
     "input": [
      "theta.T.dot(X)"
     ], 
     "language": "python", 
     "outputs": [
      {
       "output_type": "pyout", 
       "prompt_number": 174, 
       "text": [
        "array([ 0.,  0.,  0.])"
       ]
      }
     ], 
     "prompt_number": 174
    }, 
    {
     "cell_type": "code", 
     "collapsed": false, 
     "input": [
      "t = np.ones((5,3))", 
      "t"
     ], 
     "language": "python", 
     "outputs": [
      {
       "output_type": "pyout", 
       "prompt_number": 184, 
       "text": [
        "array([[ 1.,  1.,  1.],", 
        "       [ 1.,  1.,  1.],", 
        "       [ 1.,  1.,  1.],", 
        "       [ 1.,  1.,  1.],", 
        "       [ 1.,  1.,  1.]])"
       ]
      }
     ], 
     "prompt_number": 184
    }, 
    {
     "cell_type": "code", 
     "collapsed": false, 
     "input": [
      "t2 = np.ones(5)"
     ], 
     "language": "python", 
     "outputs": [], 
     "prompt_number": 186
    }, 
    {
     "cell_type": "code", 
     "collapsed": false, 
     "input": [
      "t2"
     ], 
     "language": "python", 
     "outputs": [
      {
       "output_type": "pyout", 
       "prompt_number": 189, 
       "text": [
        "array([ 1.,  1.,  1.,  1.,  1.])"
       ]
      }
     ], 
     "prompt_number": 189
    }, 
    {
     "cell_type": "code", 
     "collapsed": false, 
     "input": [
      "t2.dot(t)"
     ], 
     "language": "python", 
     "outputs": [
      {
       "output_type": "pyout", 
       "prompt_number": 190, 
       "text": [
        "array([ 5.,  5.,  5.])"
       ]
      }
     ], 
     "prompt_number": 190
    }, 
    {
     "cell_type": "code", 
     "collapsed": true, 
     "input": [
      "def gradientDescent2(X, y, theta, alpha, num_iters):", 
      "    m = len(y)", 
      "    J_history = np.zeros(num_iters)", 
      "    #J_history[0] = computeCost(X,y,theta)", 
      "    for i in range(num_iters):", 
      "        theta2 = np.copy(theta)", 
      "        for th in range(len(theta)):", 
      "            h_theta = X * theta.T", 
      "            h_theta_diff = h_theta.dot(np.ones(h_theta.shape[1])) - y", 
      "            h_theta_times = h_theta_diff * X[:,th]", 
      "            step = (alpha*(1.0/m)*", 
      "                    sum(h_theta_times))", 
      "            #print step", 
      "            theta2[th] = theta[th]-step", 
      "        #print theta2", 
      "        theta = np.copy(theta2)", 
      "        J_history[i] = computeCost(X,y,theta)", 
      "    return theta, J_history    "
     ], 
     "language": "python", 
     "outputs": [], 
     "prompt_number": 235
    }, 
    {
     "cell_type": "code", 
     "collapsed": true, 
     "input": [], 
     "language": "python", 
     "outputs": []
    }
   ]
  }
 ]
}